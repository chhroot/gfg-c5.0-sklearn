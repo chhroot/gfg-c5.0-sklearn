{
 "cells": [
  {
   "cell_type": "code",
   "execution_count": 1,
   "id": "790e8429-3416-4294-b70e-f9d756990444",
   "metadata": {},
   "outputs": [],
   "source": [
    "\n",
    "# import NUMPY package for arrays \n",
    "import numpy as np \n",
    "  \n",
    "# import MATPLOTLIB.PYPLOT for plotting our result\n",
    "import matplotlib.pyplot as plt\n",
    "  \n",
    "# import pandas for importing CSV files \n",
    "import pandas as pd \n",
    "\n",
    "# import Decision tree regressor from SKLEARN\n",
    "from sklearn.tree import DecisionTreeRegressor \n",
    "\n",
    "\n",
    "# import export_graphviz from SKLEARN for visualizing tree \n",
    "from sklearn.tree import export_graphviz "
   ]
  },
  {
   "cell_type": "code",
   "execution_count": 45,
   "id": "9bc66da1-7640-45c0-b6c5-1618fc0e957c",
   "metadata": {},
   "outputs": [
    {
     "name": "stdout",
     "output_type": "stream",
     "text": [
      "   Temperature  Humidity  PM2.5  PM10    CO  NO2  O3 AQI_Category\n",
      "0           26        47     18    32  0.42   11  36            2\n",
      "1           31        60     23    38  0.48   14  42            1\n",
      "2           29        62     38    55  0.55   21  29            0\n",
      "3           24        52     14    28  0.38   10  40            2\n",
      "4           30        58     21    36  0.47   13  38            1\n",
      "5           32        63     42    58  0.58   24  27            0\n",
      "6           27        49     20    35  0.45   12  37            1\n",
      "7           29        55     24    40  0.49   15  41            1\n",
      "8           30        60     36    52  0.56   19  32            0\n",
      "9           25        50     17    31  0.41   11  39            2\n"
     ]
    }
   ],
   "source": [
    "# Import the dataset from your local storage\n",
    "# dataframe = pd.read_csv('Data.csv') \n",
    "# here Data.csv is the file containing the data for prediction\n",
    "# here 0--> unhealthy\n",
    "#1-->moderate\n",
    "#2-->good\n",
    "df = pd.DataFrame(\n",
    "[\n",
    "    [26, 47, 18, 32, 0.42, 11, 36, '2'],\n",
    "    [31, 60, 23, 38, 0.48, 14, 42, '1'],\n",
    "    [29, 62, 38, 55, 0.55, 21, 29, '0'],\n",
    "    [24, 52, 14, 28, 0.38, 10, 40, '2'],\n",
    "    [30, 58, 21, 36, 0.47, 13, 38, '1'],\n",
    "    [32, 63, 42, 58, 0.58, 24, 27, '0'],\n",
    "    [27, 49, 20, 35, 0.45, 12, 37, '1'],\n",
    "    [29, 55, 24, 40, 0.49, 15, 41, '1'],\n",
    "    [30, 60, 36, 52, 0.56, 19, 32, '0'],\n",
    "    [25, 50, 17, 31, 0.41, 11, 39, '2']\n",
    "],columns=[\"Temperature\",\"Humidity\",\"PM2.5\",\"PM10\",\"CO\",\"NO2\",\"O3\",\"AQI_Category\"])\n",
    "  \n",
    "# print the dataset\n",
    "print(df) "
   ]
  },
  {
   "cell_type": "code",
   "execution_count": 69,
   "id": "105ec5fc-177d-4fd4-9f29-1ccd896126ee",
   "metadata": {},
   "outputs": [
    {
     "name": "stdout",
     "output_type": "stream",
     "text": [
      "[[26.   47.   18.   32.    0.42 11.   36.  ]\n",
      " [31.   60.   23.   38.    0.48 14.   42.  ]\n",
      " [29.   62.   38.   55.    0.55 21.   29.  ]\n",
      " [24.   52.   14.   28.    0.38 10.   40.  ]\n",
      " [30.   58.   21.   36.    0.47 13.   38.  ]\n",
      " [32.   63.   42.   58.    0.58 24.   27.  ]\n",
      " [27.   49.   20.   35.    0.45 12.   37.  ]\n",
      " [29.   55.   24.   40.    0.49 15.   41.  ]\n",
      " [30.   60.   36.   52.    0.56 19.   32.  ]\n",
      " [25.   50.   17.   31.    0.41 11.   39.  ]]\n"
     ]
    }
   ],
   "source": [
    "# select all rows using iloc\n",
    "# which selects a row by its index location \n",
    "# where all rows are selected using: and columns 0-7\n",
    "# by 0:7 representing features\n",
    "\n",
    "X = df.iloc[:,0:7].values.astype(float)\n",
    "# print X\n",
    "print(X)"
   ]
  },
  {
   "cell_type": "code",
   "execution_count": 70,
   "id": "da0c1c5e-1453-4418-9942-df8300bdd82c",
   "metadata": {},
   "outputs": [
    {
     "name": "stdout",
     "output_type": "stream",
     "text": [
      "[2 1 0 2 1 0 1 1 0 2]\n"
     ]
    }
   ],
   "source": [
    "# Similarly using iloc\n",
    "# select all rows by using : and column 47\n",
    "# by 7 to Y representing labels\n",
    "y = df.iloc[:, 7].values.astype(int)\n",
    "  \n",
    "# print y\n",
    "print(y)"
   ]
  },
  {
   "cell_type": "code",
   "execution_count": 78,
   "id": "989aabd5-0cc1-40b8-b00b-16f93623e8b6",
   "metadata": {},
   "outputs": [
    {
     "data": {
      "text/html": [
       "<style>#sk-container-id-9 {color: black;}#sk-container-id-9 pre{padding: 0;}#sk-container-id-9 div.sk-toggleable {background-color: white;}#sk-container-id-9 label.sk-toggleable__label {cursor: pointer;display: block;width: 100%;margin-bottom: 0;padding: 0.3em;box-sizing: border-box;text-align: center;}#sk-container-id-9 label.sk-toggleable__label-arrow:before {content: \"▸\";float: left;margin-right: 0.25em;color: #696969;}#sk-container-id-9 label.sk-toggleable__label-arrow:hover:before {color: black;}#sk-container-id-9 div.sk-estimator:hover label.sk-toggleable__label-arrow:before {color: black;}#sk-container-id-9 div.sk-toggleable__content {max-height: 0;max-width: 0;overflow: hidden;text-align: left;background-color: #f0f8ff;}#sk-container-id-9 div.sk-toggleable__content pre {margin: 0.2em;color: black;border-radius: 0.25em;background-color: #f0f8ff;}#sk-container-id-9 input.sk-toggleable__control:checked~div.sk-toggleable__content {max-height: 200px;max-width: 100%;overflow: auto;}#sk-container-id-9 input.sk-toggleable__control:checked~label.sk-toggleable__label-arrow:before {content: \"▾\";}#sk-container-id-9 div.sk-estimator input.sk-toggleable__control:checked~label.sk-toggleable__label {background-color: #d4ebff;}#sk-container-id-9 div.sk-label input.sk-toggleable__control:checked~label.sk-toggleable__label {background-color: #d4ebff;}#sk-container-id-9 input.sk-hidden--visually {border: 0;clip: rect(1px 1px 1px 1px);clip: rect(1px, 1px, 1px, 1px);height: 1px;margin: -1px;overflow: hidden;padding: 0;position: absolute;width: 1px;}#sk-container-id-9 div.sk-estimator {font-family: monospace;background-color: #f0f8ff;border: 1px dotted black;border-radius: 0.25em;box-sizing: border-box;margin-bottom: 0.5em;}#sk-container-id-9 div.sk-estimator:hover {background-color: #d4ebff;}#sk-container-id-9 div.sk-parallel-item::after {content: \"\";width: 100%;border-bottom: 1px solid gray;flex-grow: 1;}#sk-container-id-9 div.sk-label:hover label.sk-toggleable__label {background-color: #d4ebff;}#sk-container-id-9 div.sk-serial::before {content: \"\";position: absolute;border-left: 1px solid gray;box-sizing: border-box;top: 0;bottom: 0;left: 50%;z-index: 0;}#sk-container-id-9 div.sk-serial {display: flex;flex-direction: column;align-items: center;background-color: white;padding-right: 0.2em;padding-left: 0.2em;position: relative;}#sk-container-id-9 div.sk-item {position: relative;z-index: 1;}#sk-container-id-9 div.sk-parallel {display: flex;align-items: stretch;justify-content: center;background-color: white;position: relative;}#sk-container-id-9 div.sk-item::before, #sk-container-id-9 div.sk-parallel-item::before {content: \"\";position: absolute;border-left: 1px solid gray;box-sizing: border-box;top: 0;bottom: 0;left: 50%;z-index: -1;}#sk-container-id-9 div.sk-parallel-item {display: flex;flex-direction: column;z-index: 1;position: relative;background-color: white;}#sk-container-id-9 div.sk-parallel-item:first-child::after {align-self: flex-end;width: 50%;}#sk-container-id-9 div.sk-parallel-item:last-child::after {align-self: flex-start;width: 50%;}#sk-container-id-9 div.sk-parallel-item:only-child::after {width: 0;}#sk-container-id-9 div.sk-dashed-wrapped {border: 1px dashed gray;margin: 0 0.4em 0.5em 0.4em;box-sizing: border-box;padding-bottom: 0.4em;background-color: white;}#sk-container-id-9 div.sk-label label {font-family: monospace;font-weight: bold;display: inline-block;line-height: 1.2em;}#sk-container-id-9 div.sk-label-container {text-align: center;}#sk-container-id-9 div.sk-container {/* jupyter's `normalize.less` sets `[hidden] { display: none; }` but bootstrap.min.css set `[hidden] { display: none !important; }` so we also need the `!important` here to be able to override the default hidden behavior on the sphinx rendered scikit-learn.org. See: https://github.com/scikit-learn/scikit-learn/issues/21755 */display: inline-block !important;position: relative;}#sk-container-id-9 div.sk-text-repr-fallback {display: none;}</style><div id=\"sk-container-id-9\" class=\"sk-top-container\"><div class=\"sk-text-repr-fallback\"><pre>DecisionTreeClassifier(criterion=&#x27;entropy&#x27;, max_leaf_nodes=10)</pre><b>In a Jupyter environment, please rerun this cell to show the HTML representation or trust the notebook. <br />On GitHub, the HTML representation is unable to render, please try loading this page with nbviewer.org.</b></div><div class=\"sk-container\" hidden><div class=\"sk-item\"><div class=\"sk-estimator sk-toggleable\"><input class=\"sk-toggleable__control sk-hidden--visually\" id=\"sk-estimator-id-9\" type=\"checkbox\" checked><label for=\"sk-estimator-id-9\" class=\"sk-toggleable__label sk-toggleable__label-arrow\">DecisionTreeClassifier</label><div class=\"sk-toggleable__content\"><pre>DecisionTreeClassifier(criterion=&#x27;entropy&#x27;, max_leaf_nodes=10)</pre></div></div></div></div></div>"
      ],
      "text/plain": [
       "DecisionTreeClassifier(criterion='entropy', max_leaf_nodes=10)"
      ]
     },
     "execution_count": 78,
     "metadata": {},
     "output_type": "execute_result"
    }
   ],
   "source": [
    "# import the Classifier  \n",
    "from sklearn.tree import DecisionTreeClassifier  \n",
    "  \n",
    "# create a Classifier object\n",
    "# use criterion=\"entropy\" for C5.0 \n",
    "#with appropriate minimum sample leaf size\n",
    "# and maximum leaf node size\n",
    "classify = DecisionTreeClassifier(criterion=\"entropy\",min_samples_leaf=1,max_leaf_nodes=10) \n",
    "  \n",
    "# fit the regressor with X and Y data\n",
    "classify.fit(X, y)"
   ]
  },
  {
   "cell_type": "code",
   "execution_count": 79,
   "id": "60b10a20-63c1-42ac-9fa5-de9433869ed9",
   "metadata": {},
   "outputs": [
    {
     "name": "stdout",
     "output_type": "stream",
     "text": [
      "good air quality \n"
     ]
    }
   ],
   "source": [
    "# classify  pass or fail \n",
    "  \n",
    "# test the output by changing other values\n",
    "y_pred = classify.predict([[26,47,18,32,0.42,11,36]])\n",
    "  \n",
    "# print the predicted price\n",
    "if(y_pred[0]==2):\n",
    "    print(\"good air quality \")\n",
    "elif(y_pred[0]==1):\n",
    "    print(\"moderate air quality\") \n",
    "else:\n",
    "    print(\"bad air quality\")"
   ]
  },
  {
   "cell_type": "code",
   "execution_count": 1,
   "id": "31104e19-4fa3-4636-bcf4-6e14aaf97247",
   "metadata": {},
   "outputs": [
    {
     "ename": "NameError",
     "evalue": "name 'classify' is not defined",
     "output_type": "error",
     "traceback": [
      "\u001b[1;31m---------------------------------------------------------------------------\u001b[0m",
      "\u001b[1;31mNameError\u001b[0m                                 Traceback (most recent call last)",
      "\u001b[1;32mc:\\Users\\Amruth\\Downloads\\C5.0.ipynb Cell 7\u001b[0m line \u001b[0;36m6\n\u001b[0;32m      <a href='vscode-notebook-cell:/c%3A/Users/Amruth/Downloads/C5.0.ipynb#W6sZmlsZQ%3D%3D?line=1'>2</a>\u001b[0m \u001b[39mfrom\u001b[39;00m \u001b[39msklearn\u001b[39;00m\u001b[39m.\u001b[39;00m\u001b[39mtree\u001b[39;00m \u001b[39mimport\u001b[39;00m export_graphviz \n\u001b[0;32m      <a href='vscode-notebook-cell:/c%3A/Users/Amruth/Downloads/C5.0.ipynb#W6sZmlsZQ%3D%3D?line=3'>4</a>\u001b[0m \u001b[39m# export the decision tree to a tree.dot file\u001b[39;00m\n\u001b[0;32m      <a href='vscode-notebook-cell:/c%3A/Users/Amruth/Downloads/C5.0.ipynb#W6sZmlsZQ%3D%3D?line=4'>5</a>\u001b[0m \u001b[39m# for visualizing the plot easily anywhere\u001b[39;00m\n\u001b[1;32m----> <a href='vscode-notebook-cell:/c%3A/Users/Amruth/Downloads/C5.0.ipynb#W6sZmlsZQ%3D%3D?line=5'>6</a>\u001b[0m export_graphviz(classify, out_file \u001b[39m=\u001b[39m\u001b[39m'\u001b[39m\u001b[39mtree.dot\u001b[39m\u001b[39m'\u001b[39m,\n\u001b[0;32m      <a href='vscode-notebook-cell:/c%3A/Users/Amruth/Downloads/C5.0.ipynb#W6sZmlsZQ%3D%3D?line=6'>7</a>\u001b[0m                feature_names \u001b[39m=\u001b[39m[\u001b[39m\"\u001b[39m\u001b[39mTemperature\u001b[39m\u001b[39m\"\u001b[39m,\u001b[39m\"\u001b[39m\u001b[39mHumidity\u001b[39m\u001b[39m\"\u001b[39m,\u001b[39m\"\u001b[39m\u001b[39mPM2.5\u001b[39m\u001b[39m\"\u001b[39m,\u001b[39m\"\u001b[39m\u001b[39mPM10\u001b[39m\u001b[39m\"\u001b[39m,\u001b[39m\"\u001b[39m\u001b[39mCO\u001b[39m\u001b[39m\"\u001b[39m,\u001b[39m\"\u001b[39m\u001b[39mNO2\u001b[39m\u001b[39m\"\u001b[39m,\u001b[39m\"\u001b[39m\u001b[39mO3\u001b[39m\u001b[39m\"\u001b[39m])\n",
      "\u001b[1;31mNameError\u001b[0m: name 'classify' is not defined"
     ]
    }
   ],
   "source": [
    "\n",
    "# import export_graphviz\n",
    "from sklearn.tree import export_graphviz \n",
    "  \n",
    "# export the decision tree to a tree.dot file\n",
    "# for visualizing the plot easily anywhere\n",
    "export_graphviz(classify, out_file ='tree.dot',\n",
    "               feature_names =[\"Temperature\",\"Humidity\",\"PM2.5\",\"PM10\",\"CO\",\"NO2\",\"O3\"])"
   ]
  },
  {
   "cell_type": "code",
   "execution_count": null,
   "id": "86bd2918-c328-45f0-b84c-a588dd727dca",
   "metadata": {},
   "outputs": [],
   "source": []
  }
 ],
 "metadata": {
  "kernelspec": {
   "display_name": "Python 3 (ipykernel)",
   "language": "python",
   "name": "python3"
  },
  "language_info": {
   "codemirror_mode": {
    "name": "ipython",
    "version": 3
   },
   "file_extension": ".py",
   "mimetype": "text/x-python",
   "name": "python",
   "nbconvert_exporter": "python",
   "pygments_lexer": "ipython3",
   "version": "3.11.0"
  }
 },
 "nbformat": 4,
 "nbformat_minor": 5
}
